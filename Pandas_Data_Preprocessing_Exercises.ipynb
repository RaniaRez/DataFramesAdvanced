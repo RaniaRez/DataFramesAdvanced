{
  "nbformat": 4,
  "nbformat_minor": 0,
  "metadata": {
    "colab": {
      "name": "Pandas Data Preprocessing Exercises",
      "private_outputs": true,
      "provenance": [],
      "collapsed_sections": []
    },
    "kernelspec": {
      "display_name": "Python 3",
      "language": "python",
      "name": "python3"
    },
    "language_info": {
      "codemirror_mode": {
        "name": "ipython",
        "version": 3
      },
      "file_extension": ".py",
      "mimetype": "text/x-python",
      "name": "python",
      "nbconvert_exporter": "python",
      "pygments_lexer": "ipython3",
      "version": "3.7.0"
    },
    "toc": {
      "base_numbering": 1,
      "nav_menu": {},
      "number_sections": true,
      "sideBar": true,
      "skip_h1_title": false,
      "title_cell": "Table of Contents",
      "title_sidebar": "Contents",
      "toc_cell": false,
      "toc_position": {},
      "toc_section_display": true,
      "toc_window_display": false
    },
    "varInspector": {
      "cols": {
        "lenName": 16,
        "lenType": 16,
        "lenVar": 40
      },
      "kernels_config": {
        "python": {
          "delete_cmd_postfix": "",
          "delete_cmd_prefix": "del ",
          "library": "var_list.py",
          "varRefreshCmd": "print(var_dic_list())"
        },
        "r": {
          "delete_cmd_postfix": ") ",
          "delete_cmd_prefix": "rm(",
          "library": "var_list.r",
          "varRefreshCmd": "cat(var_dic_list()) "
        }
      },
      "types_to_exclude": [
        "module",
        "function",
        "builtin_function_or_method",
        "instance",
        "_Feature"
      ],
      "window_display": false
    }
  },
  "cells": [
    {
      "cell_type": "code",
      "metadata": {
        "ExecuteTime": {
          "end_time": "2021-07-12T08:17:39.506473Z",
          "start_time": "2021-07-12T08:17:04.025145Z"
        },
        "id": "qDhBBrAQYR2t"
      },
      "source": [
        "import numpy as np\n",
        "import pandas as pd\n",
        "import seaborn as sns\n",
        "import matplotlib.pyplot as plt"
      ],
      "execution_count": null,
      "outputs": []
    },
    {
      "cell_type": "code",
      "metadata": {
        "ExecuteTime": {
          "end_time": "2021-07-12T08:17:45.585044Z",
          "start_time": "2021-07-12T08:17:43.233824Z"
        },
        "id": "bLK0jMwuYY3o"
      },
      "source": [
        "data = sns.load_dataset('titanic')"
      ],
      "execution_count": null,
      "outputs": []
    },
    {
      "cell_type": "code",
      "metadata": {
        "ExecuteTime": {
          "end_time": "2021-07-12T10:21:22.336567Z",
          "start_time": "2021-07-12T10:21:22.307603Z"
        },
        "id": "1Zi_M1-Ke5Ld"
      },
      "source": [
        "data.head()"
      ],
      "execution_count": null,
      "outputs": []
    },
    {
      "cell_type": "markdown",
      "metadata": {
        "id": "ozVchThHe5Lf"
      },
      "source": [
        "## Print columns of ``data``"
      ]
    },
    {
      "cell_type": "code",
      "metadata": {
        "ExecuteTime": {
          "end_time": "2021-07-12T08:17:46.726923Z",
          "start_time": "2021-07-12T08:17:46.702919Z"
        },
        "id": "10fS4kbEYbTo"
      },
      "source": [
        ""
      ],
      "execution_count": null,
      "outputs": []
    },
    {
      "cell_type": "markdown",
      "metadata": {
        "id": "4YATBduAe5Li"
      },
      "source": [
        "## Get number of nan values per column"
      ]
    },
    {
      "cell_type": "code",
      "metadata": {
        "ExecuteTime": {
          "end_time": "2021-07-12T08:17:50.653771Z",
          "start_time": "2021-07-12T08:17:50.615798Z"
        },
        "id": "a8XSpG2UYfsX"
      },
      "source": [
        ""
      ],
      "execution_count": null,
      "outputs": []
    },
    {
      "cell_type": "code",
      "metadata": {
        "id": "NkOeVAuJe5Lm"
      },
      "source": [
        ""
      ],
      "execution_count": null,
      "outputs": []
    },
    {
      "cell_type": "markdown",
      "metadata": {
        "id": "556aB9m7e5Lo"
      },
      "source": [
        "## Display the following :\n",
        "- show the 5 first lines\n",
        "- print a summary statistics of your columns (numerical and categorical apart)"
      ]
    },
    {
      "cell_type": "code",
      "metadata": {
        "ExecuteTime": {
          "end_time": "2021-07-12T08:21:10.555647Z",
          "start_time": "2021-07-12T08:21:10.491644Z"
        },
        "id": "GKGJCi2Ee5Lr"
      },
      "source": [
        ""
      ],
      "execution_count": null,
      "outputs": []
    },
    {
      "cell_type": "code",
      "metadata": {
        "id": "ZVdhYkt7KJw4"
      },
      "source": [
        ""
      ],
      "execution_count": null,
      "outputs": []
    },
    {
      "cell_type": "code",
      "metadata": {
        "id": "aq0FKi1aJY4-"
      },
      "source": [
        ""
      ],
      "execution_count": null,
      "outputs": []
    },
    {
      "cell_type": "markdown",
      "metadata": {
        "id": "8EF5lA_5e5Lt"
      },
      "source": [
        "## Replace nan values in age with mean"
      ]
    },
    {
      "cell_type": "code",
      "metadata": {
        "ExecuteTime": {
          "end_time": "2021-07-12T11:29:39.263119Z",
          "start_time": "2021-07-12T11:29:39.253126Z"
        },
        "id": "YodWxzB9ZKmI"
      },
      "source": [
        "# Replace null value in age column\n"
      ],
      "execution_count": null,
      "outputs": []
    },
    {
      "cell_type": "markdown",
      "metadata": {
        "id": "YBPhaAa1bJeE"
      },
      "source": [
        "## Do the following : \n",
        "- first detect which columns are categorical (such as ``Embarked column`` )  and  convert them into ``category`` type\n",
        "- then Replace null values in embarked and fare columns with mode. or median."
      ]
    },
    {
      "cell_type": "code",
      "metadata": {
        "id": "hWfzFnZaKlLH"
      },
      "source": [
        ""
      ],
      "execution_count": null,
      "outputs": []
    },
    {
      "cell_type": "markdown",
      "metadata": {
        "id": "pEp5kyFUe5L2"
      },
      "source": [
        "## Print the frequency of embarked , then normalize them"
      ]
    },
    {
      "cell_type": "code",
      "metadata": {
        "id": "2NJa62ZQe5L4"
      },
      "source": [
        "#print the frequency of embarked\n"
      ],
      "execution_count": null,
      "outputs": []
    },
    {
      "cell_type": "markdown",
      "metadata": {
        "id": "3jCFS7FBDsMu"
      },
      "source": [
        "## Drop the column fare"
      ]
    },
    {
      "cell_type": "code",
      "metadata": {
        "id": "lTxB01aSaf2t"
      },
      "source": [
        ""
      ],
      "execution_count": null,
      "outputs": []
    },
    {
      "cell_type": "markdown",
      "metadata": {
        "id": "B7Zg-qpWbVFa"
      },
      "source": [
        "## Average age of the woman passengers:\n",
        "\n",
        "\n"
      ]
    },
    {
      "cell_type": "code",
      "metadata": {
        "id": "Jb8civE0bfFX"
      },
      "source": [
        ""
      ],
      "execution_count": null,
      "outputs": []
    },
    {
      "cell_type": "markdown",
      "metadata": {
        "id": "1F7KPuXKcdHW"
      },
      "source": [
        "## Average age of the male passengers."
      ]
    },
    {
      "cell_type": "code",
      "metadata": {
        "id": "n9IiHi8Mcj23"
      },
      "source": [
        ""
      ],
      "execution_count": null,
      "outputs": []
    },
    {
      "cell_type": "markdown",
      "metadata": {
        "id": "OW6MlhZSdMce"
      },
      "source": [
        "## The max age among the male passengers:"
      ]
    },
    {
      "cell_type": "code",
      "metadata": {
        "id": "rfw83MAya-EF"
      },
      "source": [
        ""
      ],
      "execution_count": null,
      "outputs": []
    },
    {
      "cell_type": "markdown",
      "metadata": {
        "id": "x6BSAfOAB611"
      },
      "source": [
        "## Create a new column age2 = age +12"
      ]
    },
    {
      "cell_type": "code",
      "metadata": {
        "id": "bIcjZI8PCDwz"
      },
      "source": [
        ""
      ],
      "execution_count": null,
      "outputs": []
    },
    {
      "cell_type": "markdown",
      "metadata": {
        "id": "pdLsP8cWdj0k"
      },
      "source": [
        "## Calculate The min age among the female passengers:"
      ]
    },
    {
      "cell_type": "code",
      "metadata": {
        "id": "Jx-Pu6FzbRwL"
      },
      "source": [
        ""
      ],
      "execution_count": null,
      "outputs": []
    },
    {
      "cell_type": "markdown",
      "metadata": {
        "id": "-6_Ucvq6dv3f"
      },
      "source": [
        "## Calculate the min age among the alive male passengers."
      ]
    },
    {
      "cell_type": "code",
      "metadata": {
        "id": "tfEVqtd4dhMR"
      },
      "source": [
        ""
      ],
      "execution_count": null,
      "outputs": []
    },
    {
      "cell_type": "markdown",
      "metadata": {
        "id": "O7H-H5IYggkP"
      },
      "source": [
        "##  Average the age of  **male** passengers in First or Second class:"
      ]
    },
    {
      "cell_type": "code",
      "metadata": {
        "id": "SJKJztCCiFWO"
      },
      "source": [
        ""
      ],
      "execution_count": null,
      "outputs": []
    },
    {
      "cell_type": "markdown",
      "metadata": {
        "id": "8hiq1hLtgLko"
      },
      "source": [
        "## Get total age of embarked equals to S or C."
      ]
    },
    {
      "cell_type": "code",
      "metadata": {
        "id": "_3SoQ6GXeHoo"
      },
      "source": [
        ""
      ],
      "execution_count": null,
      "outputs": []
    },
    {
      "cell_type": "markdown",
      "metadata": {
        "id": "sJTFQSTgoJk8"
      },
      "source": [
        "##  Sort the DataFrame in ascending order of the 'age' use ``sort_values (df.sort_values(by='...', ascending=...)).``"
      ]
    },
    {
      "cell_type": "code",
      "metadata": {
        "id": "2g64S689P2ip"
      },
      "source": [
        ""
      ],
      "execution_count": null,
      "outputs": []
    },
    {
      "cell_type": "markdown",
      "metadata": {
        "id": "2TGchYEX-E8C"
      },
      "source": [
        "**Aggregating**\n",
        "\n",
        "\n",
        "Documentation : https://pbpython.com/groupby-agg.html\n"
      ]
    },
    {
      "cell_type": "markdown",
      "metadata": {
        "id": "0G1iaCSa-Wyv"
      },
      "source": [
        "Aggregation function is one which takes multiple individual values and returns a summary.\n",
        "\n",
        "The most common aggregation functions are a simple average or summation of values.\n",
        "\n",
        "Here’s a quick example of calculating the total and average fare using the Titanic dataset (loaded from seaborn):"
      ]
    },
    {
      "cell_type": "code",
      "metadata": {
        "id": "STj8J2DpoMsm"
      },
      "source": [
        " data.groupby(by=\"embark_town\").mean()\n"
      ],
      "execution_count": null,
      "outputs": []
    },
    {
      "cell_type": "code",
      "metadata": {
        "id": "LSEEvDBiE7z_"
      },
      "source": [
        " data.groupby(by=\"embark_town\").describe()\n"
      ],
      "execution_count": null,
      "outputs": []
    },
    {
      "cell_type": "code",
      "metadata": {
        "id": "c9cUOsKbFdts"
      },
      "source": [
        "data.groupby(by=\"embark_town\").agg(age_mean=(\"age\",\"mean\"),\n",
        "                                   fare_median=(\"fare\",\"median\"))"
      ],
      "execution_count": null,
      "outputs": []
    },
    {
      "cell_type": "markdown",
      "metadata": {
        "id": "XQh3iCMRAEIL"
      },
      "source": [
        "## Average age for each embark_town. Use the groupby() method.\n"
      ]
    },
    {
      "cell_type": "code",
      "metadata": {
        "id": "zxnPhJwWSGiQ"
      },
      "source": [
        ""
      ],
      "execution_count": null,
      "outputs": []
    },
    {
      "cell_type": "markdown",
      "metadata": {
        "id": "jfDMb0z2_wf9"
      },
      "source": [
        "## Average age of each embark_town with respect to class. Use the pivot_table() method.\n",
        "\n",
        "- repeate the same but using fare as values. \n",
        "- use at least two aggregation functions (sum , mean ,...etc)   \n",
        "\n",
        "Pivot Table\n",
        "\n",
        "Documentation : \n",
        "\n",
        "https://pandas.pydata.org/pandas-docs/stable/reference/api/pandas.pivot_table.html"
      ]
    },
    {
      "cell_type": "code",
      "metadata": {
        "id": "dBQNZyjFUDiv"
      },
      "source": [
        ""
      ],
      "execution_count": null,
      "outputs": []
    },
    {
      "cell_type": "code",
      "metadata": {
        "ExecuteTime": {
          "end_time": "2021-07-12T10:48:55.075179Z",
          "start_time": "2021-07-12T10:48:54.690203Z"
        },
        "id": "M_ba7TJCqiqv"
      },
      "source": [
        ""
      ],
      "execution_count": null,
      "outputs": []
    },
    {
      "cell_type": "markdown",
      "metadata": {
        "id": "6n5f8BPl_9Ir"
      },
      "source": [
        "## Average age and fare for each embark_town using groupby()"
      ]
    },
    {
      "cell_type": "code",
      "metadata": {
        "ExecuteTime": {
          "end_time": "2021-07-12T10:52:34.222524Z",
          "start_time": "2021-07-12T10:52:34.193542Z"
        },
        "id": "QY9Cd_d3_6G_"
      },
      "source": [
        ""
      ],
      "execution_count": null,
      "outputs": []
    },
    {
      "cell_type": "markdown",
      "metadata": {
        "id": "ZDV0Kc_uh7p_"
      },
      "source": [
        "## Sort the DataFrame in ascending order of the 'embark_town'. Show the top 20."
      ]
    },
    {
      "cell_type": "code",
      "metadata": {
        "id": "vZT7GtA5h8L4"
      },
      "source": [
        ""
      ],
      "execution_count": null,
      "outputs": []
    },
    {
      "cell_type": "code",
      "metadata": {
        "ExecuteTime": {
          "end_time": "2021-07-12T11:05:05.968379Z",
          "start_time": "2021-07-12T11:05:03.234204Z"
        },
        "id": "CnNpSthle5Ma"
      },
      "source": [
        ""
      ],
      "execution_count": null,
      "outputs": []
    },
    {
      "cell_type": "code",
      "metadata": {
        "id": "BAj-e570e5Mb"
      },
      "source": [
        ""
      ],
      "execution_count": null,
      "outputs": []
    }
  ]
}